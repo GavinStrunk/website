{
 "cells": [
  {
   "cell_type": "markdown",
   "metadata": {},
   "source": [
    "# Julia Programming for Operations Research"
   ]
  },
  {
   "cell_type": "markdown",
   "metadata": {},
   "source": [
    "## Install Packages"
   ]
  },
  {
   "cell_type": "code",
   "execution_count": 1,
   "metadata": {},
   "outputs": [
    {
     "name": "stderr",
     "output_type": "stream",
     "text": [
      "\u001b[1m\u001b[36mINFO: \u001b[39m\u001b[22m\u001b[36mPkg operations are not possible on JuliaBox. Please use the \"Packages\" menu at the top of the main screen.\n",
      "\u001b[39m\u001b[1m\u001b[36mINFO: \u001b[39m\u001b[22m\u001b[36mPkg operations are not possible on JuliaBox. Please use the \"Packages\" menu at the top of the main screen.\n",
      "\u001b[39m"
     ]
    }
   ],
   "source": [
    "#Install Clp and JuMP packages\n",
    "Pkg.add(\"Clp\")\n",
    "Pkg.add(\"JuMP\")"
   ]
  },
  {
   "cell_type": "code",
   "execution_count": 2,
   "metadata": {},
   "outputs": [
    {
     "name": "stderr",
     "output_type": "stream",
     "text": [
      "\u001b[1m\u001b[36mINFO: \u001b[39m\u001b[22m\u001b[36mPrecompiling module StaticArrays.\n",
      "\u001b[39m\u001b[1m\u001b[36mINFO: \u001b[39m\u001b[22m\u001b[36mPrecompiling module JuMP.\n",
      "\u001b[39m"
     ]
    }
   ],
   "source": [
    "using JuMP, Cbc"
   ]
  },
  {
   "cell_type": "code",
   "execution_count": 3,
   "metadata": {},
   "outputs": [
    {
     "name": "stdout",
     "output_type": "stream",
     "text": [
      "Optimal Solutions:\n",
      "x = 40.0\n",
      "y = -3.3333333333333335\n",
      "z = 0.0\n"
     ]
    }
   ],
   "source": [
    "m = Model(solver=CbcSolver())\n",
    "\n",
    "#Define the variables\n",
    "@variable(m, 0<= x <=40)\n",
    "@variable(m, y <= 0)\n",
    "@variable(m, z <= 0)\n",
    "\n",
    "#define the objective function\n",
    "@objective(m, Max, x + y + z)\n",
    "\n",
    "#define the constraints\n",
    "@constraint(m, const1, -x + y + z <= 20)\n",
    "@constraint(m, const2, x + 3y + z <= 30)\n",
    "\n",
    "solve(m)\n",
    "\n",
    "println(\"Optimal Solutions:\")\n",
    "println(\"x = \", getvalue(x))\n",
    "println(\"y = \", getvalue(y))\n",
    "println(\"z = \", getvalue(z))\n"
   ]
  },
  {
   "cell_type": "code",
   "execution_count": 10,
   "metadata": {},
   "outputs": [
    {
     "name": "stderr",
     "output_type": "stream",
     "text": [
      "\u001b[1m\u001b[36mINFO: \u001b[39m\u001b[22m\u001b[36mPrecompiling module Ipopt.\n",
      "\u001b[39m"
     ]
    }
   ],
   "source": [
    "using Ipopt"
   ]
  },
  {
   "cell_type": "code",
   "execution_count": 12,
   "metadata": {},
   "outputs": [
    {
     "name": "stdout",
     "output_type": "stream",
     "text": [
      "This is Ipopt version 3.12.1, running with linear solver mumps.\n",
      "NOTE: Other linear solvers might be more efficient (see Ipopt documentation).\n",
      "\n",
      "Number of nonzeros in equality constraint Jacobian...:       14\n",
      "Number of nonzeros in inequality constraint Jacobian.:        0\n",
      "Number of nonzeros in Lagrangian Hessian.............:       15\n",
      "\n",
      "Total number of variables............................:        8\n",
      "                     variables with only lower bounds:        0\n",
      "                variables with lower and upper bounds:        8\n",
      "                     variables with only upper bounds:        0\n",
      "Total number of equality constraints.................:        6\n",
      "Total number of inequality constraints...............:        0\n",
      "        inequality constraints with only lower bounds:        0\n",
      "   inequality constraints with lower and upper bounds:        0\n",
      "        inequality constraints with only upper bounds:        0\n",
      "\n",
      "iter    objective    inf_pr   inf_du lg(mu)  ||d||  lg(rg) alpha_du alpha_pr  ls\n",
      "   0  2.8993109e+02 2.98e+00 3.46e+01  -1.0 0.00e+00    -  0.00e+00 0.00e+00   0\n",
      "   1  2.6029636e+02 2.56e+00 5.49e+01  -1.0 1.93e+00    -  5.37e-03 1.40e-01f  1\n",
      "   2  4.0866048e+00 1.48e-01 1.33e+02  -1.0 1.81e+00    -  2.09e-01 9.42e-01f  1\n",
      "   3  1.5543741e+00 8.32e-02 7.49e+01  -1.0 1.23e-01    -  1.00e+00 4.38e-01f  1\n",
      "   4  6.8539820e-02 1.56e-02 1.39e+01  -1.0 1.49e-01    -  1.00e+00 8.12e-01f  1\n",
      "   5  5.4034042e-02 7.70e-03 1.60e+01  -1.0 1.82e-02    -  1.00e+00 5.07e-01h  1\n",
      "   6  4.2876306e-02 3.02e-03 2.17e+01  -1.0 1.51e-02    -  1.00e+00 6.07e-01h  1\n",
      "   7  4.2317414e-02 1.25e-03 4.99e+01  -1.0 3.35e-03    -  1.00e+00 5.85e-01h  1\n",
      "   8  4.2040549e-02 5.19e-04 1.19e+02  -1.0 2.42e-03    -  1.00e+00 5.86e-01h  1\n",
      "   9  4.2074333e-02 2.15e-04 2.87e+02  -1.0 5.76e-04    -  1.00e+00 5.86e-01h  1\n",
      "iter    objective    inf_pr   inf_du lg(mu)  ||d||  lg(rg) alpha_du alpha_pr  ls\n",
      "  10  4.2071210e-02 1.50e-04 1.06e+03  -1.0 4.02e-04    -  1.00e+00 3.16e-01f  2\n",
      "  11  4.2075208e-02 2.90e-05 5.76e+02  -1.0 1.89e-04    -  1.00e+00 8.06e-01h  1\n",
      "  12  4.2087592e-02 1.77e-05 1.02e-08  -1.0 2.29e-05    -  1.00e+00 1.00e+00f  1\n",
      "  13  1.2720441e-02 2.22e-15 7.36e-02  -3.8 6.16e-02    -  9.35e-01 1.00e+00f  1\n",
      "  14  3.3830623e-03 2.37e-09 9.94e-03  -3.8 3.64e-02    -  1.00e+00 1.00e+00f  1\n",
      "  15  8.4702493e-04 8.88e-15 4.91e+01  -5.7 1.94e-02    -  9.92e-01 1.00e+00f  1\n",
      "  16  2.1394658e-04 1.56e-08 6.99e-04  -5.7 9.65e-03    -  1.00e+00 1.00e+00f  1\n",
      "  17  5.3946540e-05 1.72e-08 1.77e-04  -5.7 4.85e-03    -  1.00e+00 1.00e+00h  1\n",
      "  18  1.3950602e-05 1.71e-08 4.34e-05  -5.7 2.41e-03    -  1.00e+00 1.00e+00h  1\n",
      "  19  3.4888284e-06 1.88e-08 1.16e-05  -8.6 1.24e-03    -  1.00e+00 1.00e+00h  1\n",
      "iter    objective    inf_pr   inf_du lg(mu)  ||d||  lg(rg) alpha_du alpha_pr  ls\n",
      "  20  8.7285757e-07 2.66e-15 6.05e+03  -8.6 6.22e-04    -  5.90e-02 1.00e+00h  1\n",
      "  21  3.8099436e-07 4.28e-07 1.58e-01  -8.6 2.12e-04    -  5.86e-02 1.00e+00f  1\n",
      "  22  2.5981243e-07 1.41e-07 5.13e-02  -8.6 1.07e-04    -  1.00e+00 6.70e-01h  1\n",
      "  23  1.7009446e-07 9.00e-08 4.62e-02  -8.6 1.77e-04    -  1.00e+00 3.62e-01f  1\n",
      "  24  4.1969398e-08 1.77e-08 1.25e-02  -8.6 1.72e-04    -  1.00e+00 8.04e-01f  1\n",
      "  25  1.2932267e-08 3.47e-09 1.12e-02  -8.6 7.55e-05    -  1.00e+00 8.03e-01f  1\n",
      "  26  3.2271411e-09 8.88e-16 1.08e-08  -8.6 3.80e-05    -  1.00e+00 1.00e+00f  1\n",
      "\n",
      "Number of Iterations....: 26\n",
      "\n",
      "                                   (scaled)                 (unscaled)\n",
      "Objective...............:   3.2271410724873223e-09    3.2271410724873223e-09\n",
      "Dual infeasibility......:   1.0779971718286262e-08    1.0779971718286262e-08\n",
      "Constraint violation....:   8.8817841970012523e-16    8.8817841970012523e-16\n",
      "Complementarity.........:   6.4497471776518458e-09    6.4497471776518458e-09\n",
      "Overall NLP error.......:   6.4497471776518458e-09    1.0779971718286262e-08\n",
      "\n",
      "\n",
      "Number of objective function evaluations             = 28\n",
      "Number of objective gradient evaluations             = 27\n",
      "Number of equality constraint evaluations            = 28\n",
      "Number of inequality constraint evaluations          = 0\n",
      "Number of equality constraint Jacobian evaluations   = 27\n",
      "Number of inequality constraint Jacobian evaluations = 0\n",
      "Number of Lagrangian Hessian evaluations             = 26\n",
      "Total CPU secs in IPOPT (w/o function evaluations)   =      0.008\n",
      "Total CPU secs in NLP function evaluations           =      0.004\n",
      "\n",
      "EXIT: Optimal Solution Found.\n",
      "Optimal Solution:\n",
      "3.0\n",
      "1.9999999901491876\n",
      "1.999999971611332\n",
      "3.0\n",
      "1.0000000098508124\n",
      "1.0000000185378553\n",
      "1.9999999814621447\n",
      "3.783483776503886e-5\n"
     ]
    }
   ],
   "source": [
    "m2 = Model(solver=IpoptSolver())\n",
    "\n",
    "@variable(m2, 1<= x1 <=3)\n",
    "@variable(m2, 1<= x3 <=3)\n",
    "@variable(m2, 1<= x4 <=3)\n",
    "@variable(m2, 1<= x5 <=3)\n",
    "@variable(m2, 1<= x6 <=3)\n",
    "@variable(m2, 1<= x7 <=3)\n",
    "@variable(m2, 1<= x8 <=3)\n",
    "@variable(m2, 0<= x10 <=1)\n",
    "\n",
    "@NLobjective(m2, Min, (x1*x4*x5 - 18)^2 + (x3+x6-3)^2 + (x10*(x7/x8) + (1-x10)*(x8/x7) - 2)^2)\n",
    "\n",
    "@constraint(m2, const1, x1+x3 ==5)\n",
    "@constraint(m2, const2, x4+x5+x6==6)\n",
    "@constraint(m2, const3, x7+x8==3)\n",
    "@constraint(m2, const4, x1+x4+x7==6)\n",
    "@constraint(m2, const5, x5+x8 == 5)\n",
    "@constraint(m2, const6, x3+x6 == 3)\n",
    "\n",
    "solve(m2)\n",
    "println(\"Optimal Solution:\")\n",
    "println(getvalue(x1))\n",
    "println(getvalue(x3))\n",
    "println(getvalue(x4))\n",
    "println(getvalue(x5))\n",
    "println(getvalue(x6))\n",
    "println(getvalue(x7))\n",
    "println(getvalue(x8))\n",
    "println(getvalue(x10))"
   ]
  }
 ],
 "metadata": {
  "kernelspec": {
   "display_name": "Julia 0.6.2",
   "language": "julia",
   "name": "julia-0.6"
  },
  "language_info": {
   "file_extension": ".jl",
   "mimetype": "application/julia",
   "name": "julia",
   "version": "0.6.2"
  }
 },
 "nbformat": 4,
 "nbformat_minor": 2
}
