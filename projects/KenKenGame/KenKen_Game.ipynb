{
 "cells": [
  {
   "cell_type": "code",
   "execution_count": 86,
   "metadata": {},
   "outputs": [],
   "source": [
    "# KenKen Nonlinear Optimization"
   ]
  },
  {
   "cell_type": "code",
   "execution_count": 87,
   "metadata": {},
   "outputs": [],
   "source": [
    "import scipy.optimize\n",
    "import numpy as np"
   ]
  },
  {
   "cell_type": "code",
   "execution_count": 88,
   "metadata": {},
   "outputs": [],
   "source": [
    "## Define the optimization function"
   ]
  },
  {
   "cell_type": "code",
   "execution_count": 89,
   "metadata": {},
   "outputs": [],
   "source": [
    "def f(x):\n",
    "    f1 = x[0]*x[3]*x[4] - 18\n",
    "    f2 = x[1] - 1\n",
    "    f3 = x[2] + x[5] - 3\n",
    "    f4 = x[9]*(x[6]/x[7]) + (1 - x[9])*(x[7]/x[6]) - 2\n",
    "    f5 = x[8] - 3\n",
    "    return f1**2 + f2**2 + f3**2 + f4**2 + f5**2"
   ]
  },
  {
   "cell_type": "code",
   "execution_count": 90,
   "metadata": {},
   "outputs": [],
   "source": [
    "def f2(x):\n",
    "    f1 = x[0]*x[2]*x[3] - 18\n",
    "    f2 = x[1] + x[4] - 3\n",
    "    f3 = x[7]*(x[5]/x[6]) + (1 - x[7])*(x[6]/x[5]) - 2\n",
    "    return f1**2 + f2**2 + f3**2"
   ]
  },
  {
   "cell_type": "code",
   "execution_count": 91,
   "metadata": {},
   "outputs": [],
   "source": [
    "x0 = np.random.random(10)\n",
    "x02 = np.random.random(8)"
   ]
  },
  {
   "cell_type": "code",
   "execution_count": 92,
   "metadata": {},
   "outputs": [],
   "source": [
    "bounds = [[1,3],[1,3],[1,3],[1,3],[1,3],[1,3],[1,3],[1,3],[1,3],[0,1]]\n",
    "bounds2 = [[1,3],[1,3],[1,3],[1,3],[1,3],[1,3],[1,3],[0,1]]"
   ]
  },
  {
   "cell_type": "code",
   "execution_count": 110,
   "metadata": {},
   "outputs": [],
   "source": [
    "def constraint(x):\n",
    "    A = np.array([[1, 1, 1, 0, 0, 0, 0, 0, 0, 0],\n",
    "                 [0, 0, 0, 1, 1, 1, 0, 0, 0, 0],\n",
    "                 [0, 0, 0, 0, 0, 0, 1, 1, 1, 0],\n",
    "                 [1, 0, 0, 1, 0, 0, 1, 0, 0, 0],\n",
    "                 [0, 1, 0, 0, 1, 0, 0, 1, 0, 0]])\n",
    "                 #[0, 0, 1, 0, 0, 1, 0, 0, 1, 0]])\n",
    "    #b = np.array([6, 6, 6, 6, 6, 6])\n",
    "    b = np.array([6, 6, 6, 6, 6])\n",
    "    return np.dot(A,x) - b"
   ]
  },
  {
   "cell_type": "code",
   "execution_count": 107,
   "metadata": {},
   "outputs": [],
   "source": [
    "def constraint2(x):\n",
    "    A = np.array([[1, 1, 0, 0, 0, 0, 0, 0],\n",
    "                  [0, 0, 1, 1, 1, 0, 0, 0],\n",
    "                  [0, 0, 0, 0, 0, 1, 1, 0],\n",
    "                  [1, 0, 1, 0, 0, 1, 0, 0],\n",
    "                  [0, 0, 0, 1, 0, 0, 1, 0]])\n",
    "                 # [0, 1, 0, 0, 1, 0, 0, 0]])\n",
    "    #b = np.array([5, 6, 3, 6, 5, 3])\n",
    "    b = np.array([5, 6, 3, 6, 5])\n",
    "    return np.dot(A,x) - b"
   ]
  },
  {
   "cell_type": "code",
   "execution_count": 105,
   "metadata": {},
   "outputs": [],
   "source": [
    "cons = [{'type':'eq', 'fun': lambda x: x[0] + x[1] - 5},\n",
    "        {'type':'eq', 'fun': lambda x: x[2] + x[3] + x[4] - 6},\n",
    "        {'type':'eq', 'fun': lambda x: x[5] + x[6] - 3},\n",
    "        {'type':'eq', 'fun': lambda x: x[0] + x[2] + x[5] - 6},\n",
    "        {'type':'eq', 'fun': lambda x: x[3] + x[6] - 5}]\n",
    "        #{'type':'eq', 'fun': lambda x: x[1] + x[4] - 3}]"
   ]
  },
  {
   "cell_type": "code",
   "execution_count": 106,
   "metadata": {
    "scrolled": true
   },
   "outputs": [
    {
     "data": {
      "text/plain": [
       "     fun: 1.9721522630525295e-31\n",
       "     jac: array([  5.36441803e-07,   1.49011621e-08,   1.20699406e-06,\n",
       "         5.36441803e-07,   1.49011621e-08,   5.96046430e-08,\n",
       "         1.49011612e-08,   3.35276127e-08])\n",
       " message: 'Optimization terminated successfully.'\n",
       "    nfev: 40\n",
       "     nit: 4\n",
       "    njev: 4\n",
       "  status: 0\n",
       " success: True\n",
       "       x: array([ 3.,  2.,  2.,  3.,  1.,  1.,  2.,  0.])"
      ]
     },
     "execution_count": 106,
     "metadata": {},
     "output_type": "execute_result"
    }
   ],
   "source": [
    "scipy.optimize.minimize(f2, x02, method=\"SLSQP\", constraints=cons, bounds=bounds2)"
   ]
  },
  {
   "cell_type": "code",
   "execution_count": 111,
   "metadata": {},
   "outputs": [
    {
     "data": {
      "text/plain": [
       "     fun: 4.518033694749051e-25\n",
       "     jac: array([  5.36449733e-07,   1.49011612e-08,   1.49014072e-08,\n",
       "         1.20700595e-06,   5.36449733e-07,   1.49014072e-08,\n",
       "         5.96046545e-08,   1.49011559e-08,   1.49011612e-08,\n",
       "         3.35276213e-08])\n",
       " message: 'Optimization terminated successfully.'\n",
       "    nfev: 36\n",
       "     nit: 3\n",
       "    njev: 3\n",
       "  status: 0\n",
       " success: True\n",
       "       x: array([ 3.,  1.,  2.,  2.,  3.,  1.,  1.,  2.,  3.,  0.])"
      ]
     },
     "execution_count": 111,
     "metadata": {},
     "output_type": "execute_result"
    }
   ],
   "source": [
    "scipy.optimize.minimize(f, x0, method=\"SLSQP\", constraints={\"fun\":constraint,\"type\": \"eq\"}, bounds=bounds)"
   ]
  },
  {
   "cell_type": "code",
   "execution_count": 109,
   "metadata": {},
   "outputs": [
    {
     "data": {
      "text/plain": [
       "     fun: 1.9721522630525295e-31\n",
       "     jac: array([  5.36441803e-07,   1.49011621e-08,   1.20699406e-06,\n",
       "         5.36441803e-07,   1.49011621e-08,   5.96046430e-08,\n",
       "         1.49011612e-08,   3.35276127e-08])\n",
       " message: 'Optimization terminated successfully.'\n",
       "    nfev: 40\n",
       "     nit: 4\n",
       "    njev: 4\n",
       "  status: 0\n",
       " success: True\n",
       "       x: array([ 3.,  2.,  2.,  3.,  1.,  1.,  2.,  0.])"
      ]
     },
     "execution_count": 109,
     "metadata": {},
     "output_type": "execute_result"
    }
   ],
   "source": [
    "scipy.optimize.minimize(f2, x02, method=\"SLSQP\", constraints={\"fun\":constraint2,\"type\": \"eq\"}, bounds=bounds2)"
   ]
  }
 ],
 "metadata": {
  "kernelspec": {
   "display_name": "Python 3",
   "language": "python",
   "name": "python3"
  },
  "language_info": {
   "codemirror_mode": {
    "name": "ipython",
    "version": 3
   },
   "file_extension": ".py",
   "mimetype": "text/x-python",
   "name": "python",
   "nbconvert_exporter": "python",
   "pygments_lexer": "ipython3",
   "version": "3.5.2"
  }
 },
 "nbformat": 4,
 "nbformat_minor": 2
}
